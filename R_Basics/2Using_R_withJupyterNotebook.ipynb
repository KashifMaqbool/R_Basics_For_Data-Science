{
 "cells": [
  {
   "cell_type": "code",
   "execution_count": null,
   "id": "4d5a45cf-a938-45f5-8289-3bceecc5db24",
   "metadata": {},
   "outputs": [],
   "source": [
    "# Print Hello World Program\n",
    "print(\"Hello World\")\n",
    "\n",
    "\n",
    "# Variables\n",
    "x<-1L\n",
    "y<-2.2\n",
    "z <- x+y\n",
    "z"
   ]
  },
  {
   "cell_type": "code",
   "execution_count": null,
   "id": "5976b8a0-09b2-4eed-9563-73f70cfde473",
   "metadata": {},
   "outputs": [],
   "source": []
  }
 ],
 "metadata": {
  "kernelspec": {
   "display_name": "R",
   "language": "R",
   "name": "ir"
  },
  "language_info": {
   "codemirror_mode": {
    "name": "ipython",
    "version": 3
   },
   "file_extension": ".py",
   "mimetype": "text/x-python",
   "name": "python",
   "nbconvert_exporter": "python",
   "pygments_lexer": "ipython3",
   "version": "3.8.2"
  }
 },
 "nbformat": 4,
 "nbformat_minor": 5
}
